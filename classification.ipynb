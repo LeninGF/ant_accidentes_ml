{
 "cells": [
  {
   "cell_type": "markdown",
   "metadata": {},
   "source": [
    "# Predicciones de Riesgos de Accidentes de Tránsido con Machine Learning\n",
    "\n",
    "## Objetivo General\n",
    "Aplicar las técnicas de Machine Learning para realizar predicciones sobre el fenómeno de siniestros de tránsito utilizando el conjunto de datos de la AMT de Ecuador con fecha de corte 2024-x-x.\n",
    "## Objetivo Específico:\n",
    "- Utilizar aprendizaje supervisado que permita predecir, dados unas condiciones de entrada, el nivel de gravedad del accidente. Para esto se considera la **Pirámide de Bird**, la cual se adapta según la relación de fallecidos y lesionados en el siniestro.\n",
    "- Utilizar aprendizaje supervisado para predecir la cantidad de lesionados y fallecidos según condiciones de entrada. Para esto se puede partir del dataset original.\n",
    "- Utilizar aprendizaje supervisado para obtener grupos de siniestralidad en función de las características del accidente"
   ]
  },
  {
   "cell_type": "code",
   "execution_count": 1,
   "metadata": {},
   "outputs": [
    {
     "data": {
      "text/plain": [
       "(165017, 60)"
      ]
     },
     "execution_count": 1,
     "metadata": {},
     "output_type": "execute_result"
    }
   ],
   "source": [
    "import pandas as pd\n",
    "import os\n",
    "dataset_path = os.path.join(os.getcwd(), 'data', 'dataset_original.xlsx')\n",
    "dataset = pd.read_excel(dataset_path)\n",
    "dataset.shape"
   ]
  },
  {
   "cell_type": "code",
   "execution_count": 2,
   "metadata": {},
   "outputs": [],
   "source": [
    "pd.set_option('display.max_columns', None)\n",
    "pd.options.display.max_rows = None"
   ]
  },
  {
   "cell_type": "code",
   "execution_count": 3,
   "metadata": {},
   "outputs": [
    {
     "name": "stdout",
     "output_type": "stream",
     "text": [
      "<class 'pandas.core.frame.DataFrame'>\n",
      "RangeIndex: 165017 entries, 0 to 165016\n",
      "Data columns (total 60 columns):\n",
      " #   Column                         Non-Null Count   Dtype  \n",
      "---  ------                         --------------   -----  \n",
      " 0   NUMERO                         165017 non-null  int64  \n",
      " 1   ANIO                           165017 non-null  int64  \n",
      " 2   SINIESTROS                     165017 non-null  object \n",
      " 3   LESIONADOS                     165017 non-null  int64  \n",
      " 4   FALLECIDOS                     165017 non-null  int64  \n",
      " 5   ENTE_DE_CONTROL                165017 non-null  object \n",
      " 6   LATITUD_Y                      165017 non-null  float64\n",
      " 7   LONGITUD_X                     165017 non-null  float64\n",
      " 8   DPA_1                          165017 non-null  int64  \n",
      " 9   PROVINCIA                      165017 non-null  object \n",
      " 10  DPA_2                          165017 non-null  int64  \n",
      " 11  CANTON                         165017 non-null  object \n",
      " 12  DPA_3                          165017 non-null  int64  \n",
      " 13  PARROQUIA                      165017 non-null  object \n",
      " 14  DIRECCION                      165017 non-null  object \n",
      " 15  ZONA_PLANIFICACION             164992 non-null  object \n",
      " 16  ZONA                           164992 non-null  object \n",
      " 17  ID_DE_LA_VIA                   164992 non-null  object \n",
      " 18  NOMBRE_DE_LA_VIA               164992 non-null  object \n",
      " 19  UBICACION_DE_LA_VIA            164992 non-null  object \n",
      " 20  JERARQUIA_DE_LA_VIA            164992 non-null  object \n",
      " 21  FECHA                          164992 non-null  object \n",
      " 22  HORA                           164992 non-null  object \n",
      " 23  PERIODO_1                      164992 non-null  object \n",
      " 24  PERIODO_2                      164992 non-null  float64\n",
      " 25  DIA_1                          164992 non-null  object \n",
      " 26  DIA_2                          164992 non-null  float64\n",
      " 27  MES_1                          164992 non-null  object \n",
      " 28  MES_2                          164992 non-null  float64\n",
      " 29  FERIADO                        164992 non-null  object \n",
      " 30  CODIGO_CAUSA                   164992 non-null  object \n",
      " 31  CAUSA_PROBABLE                 164992 non-null  object \n",
      " 32  TIPO_DE_SINIESTRO              164992 non-null  object \n",
      " 33  TIPO_DE_VEHICULO_1             164992 non-null  object \n",
      " 34  SERVICIO_1                     164992 non-null  object \n",
      " 35  AUTOMOVIL                      164992 non-null  float64\n",
      " 36  BICICLETA                      164992 non-null  float64\n",
      " 37  BUS                            164992 non-null  float64\n",
      " 38  CAMION                         164992 non-null  float64\n",
      " 39  CAMIONETA                      164992 non-null  float64\n",
      " 40  EMERGENCIAS                    164992 non-null  float64\n",
      " 41  ESPECIAL                       164992 non-null  float64\n",
      " 42  FURGONETA                      164992 non-null  float64\n",
      " 43  MOTOCICLETA                    164992 non-null  float64\n",
      " 44  NO_IDENTIFICADO                164992 non-null  float64\n",
      " 45  SCOOTER_ELECTRICO              164992 non-null  float64\n",
      " 46  TRICIMOTO                      164992 non-null  float64\n",
      " 47  VEHICULO_DEPORTIVO_UTILITARIO  164992 non-null  float64\n",
      " 48  SUMA_DE_VEHICULOS              164992 non-null  float64\n",
      " 49  TIPO_ID_1                      164992 non-null  object \n",
      " 50  EDAD_1                         164992 non-null  float64\n",
      " 51  SEXO_1                         164992 non-null  object \n",
      " 52  CONDICION_1                    164992 non-null  object \n",
      " 53  PARTICIPANTE_1                 164992 non-null  object \n",
      " 54  CASCO_1                        164992 non-null  object \n",
      " 55  CINTURON_1                     164992 non-null  object \n",
      " 56  DPA_PROV                       165017 non-null  int64  \n",
      " 57  DPA_CANT                       165017 non-null  int64  \n",
      " 58  DPA_PARR                       165017 non-null  int64  \n",
      " 59  GRUPO ETARIO                   165017 non-null  object \n",
      "dtypes: float64(20), int64(10), object(30)\n",
      "memory usage: 75.5+ MB\n"
     ]
    }
   ],
   "source": [
    "dataset.info()"
   ]
  },
  {
   "cell_type": "code",
   "execution_count": 4,
   "metadata": {},
   "outputs": [
    {
     "data": {
      "text/plain": [
       "(164992, 60)"
      ]
     },
     "execution_count": 4,
     "metadata": {},
     "output_type": "execute_result"
    }
   ],
   "source": [
    "dataset_cl1 = dataset.dropna()\n",
    "dataset_cl1.shape"
   ]
  },
  {
   "cell_type": "markdown",
   "metadata": {},
   "source": [
    "## Valores únicos contenidos en el dataset\n",
    "\n",
    "Se revisa cuál es el contenido de valores únicos en el dataset en el caso de que la columna sea de tipo object"
   ]
  },
  {
   "cell_type": "code",
   "execution_count": 9,
   "metadata": {},
   "outputs": [
    {
     "name": "stdout",
     "output_type": "stream",
     "text": [
      "FERIADO tiene los siguientes valores\n",
      "{'SI', 'NO'}\n",
      "CODIGO_CAUSA tiene los siguientes valores\n",
      "{'C19', 'C18', 'C26', 'C22', 'C07', 'C25', 'C06', 'C09', 'C05', 'C17', 'C01', 'C03', 'C15', 'C02', 'C28', 'C27', 'C10', 'C16', 'C23', 'C11', 'C24', 'C08', 'C12', 'C21', 'C14', 'C04', 'C20'}\n",
      "CAUSA_PROBABLE tiene los siguientes valores\n",
      "{'CONDUCIR DESATENTO A LAS CONDICIONES DE TRANSITO (CELULAR, PANTALLAS DE VIDEO, COMIDA, MAQUILLAJE O CUALQUIER OTRO ELEMENTO DISTRACTOR).', 'MALAS CONDICIONES DE LA VIA Y/O CONFIGURACION. (ILUMINACION Y DISEÑO).', 'NO GUARDAR LA DISTANCIA LATERAL MINIMA DE SEGURIDAD ENTRE VEHICULOS.', 'ADELANTAR O REBASAR A OTRO VEHICULO EN MOVIMIENTO EN ZONAS O SITIOS PELIGROSOS TALES COMO: CURVAS, PUENTES, TUNELES, PENDIENTES, ETC.', 'NO TRANSITAR POR LAS ACERAS O ZONAS DE SEGURIDAD DESTINADAS PARA EL EFECTO.', 'PRESENCIA DE AGENTES EXTERNOS EN LA VIA (AGUA, ACEITE, PIEDRA, LASTRE, ESCOMBROS, MADEROS, ETC.).', 'CONDUCIR EN SENTIDO CONTRARIO A LA VIA NORMAL DE CIRCULACION.', 'NO RESPETAR LAS SEÑALES REGLAMENTARIAS DE TRANSITO. (PARE, CEDA EL PASO, LUZ ROJA DEL SEMAFORO, ETC).', 'DAÑOS MECANICOS PREVISIBLES.', 'DEJAR O RECOGER PASAJEROS EN LUGARES NO PERMITIDOS.', 'CONDUCIR VEHICULO SUPERANDO LOS LIMITES MAXIMOS DE VELOCIDAD.', 'PEATON TRANSITA BAJO INFLUENCIA DE ALCOHOL, SUSTANCIAS ESTUPEFACIENTES O PSICOTROPICAS Y/O MEDICAMENTOS.', 'DISPOSITIVO REGULADOR DE TRANSITO EN MAL ESTADO DE FUNCIONAMIENTO (SEMAFORO).', 'CASO FORTUITO O FUERZA MAYOR (EXPLOSION DE NEUMATICO NUEVO, DERRUMBE, INUNDACION, CAIDA DE PUENTE, ARBOL, PRESENCIA INTEMPESTIVA E IMPREVISTA DE SEMOVIENTES EN LA VIA, ETC.).', 'REALIZAR CAMBIO BRUSCO O INDEBIDO DE CARRIL.', 'PESO Y VOLUMEN - NO CUMPLIR CON LAS NORMAS DE SEGURIDAD NECESARIAS AL TRANSPORTAR CARGAS.', 'NO MANTENER LA DISTANCIA PRUDENCIAL CON RESPECTO AL VEHICULO QUE LE ANTECEDE.', 'NO RESPETAR LAS SEÑALES MANUALES DEL AGENTE DE TRANSITO.', 'CONDUCE BAJO LA INFLUENCIA DE ALCOHOL, SUSTANCIAS ESTUPEFACIENTES O PSICOTROPICAS Y/O MEDICAMENTOS.', 'FALLA MECANICA EN LOS SISTEMAS Y/O NEUMATICOS (SISTEMA DE FRENOS, DIRECCION, ELECTRONICO O MECANICO).', 'CONDUCIR EN ESTADO DE SOMNOLENCIA O MALAS CONDICIONES FISICAS (SUEÑO, CANSANCIO Y FATIGA).', 'PEATON QUE CRUZA LA CALZADA SIN RESPETAR LA SEÑALIZACION EXISTENTE (SEMAFOROS O SEÑALES MANUALES).', 'NO CEDER EL DERECHO DE VIA O PREFERENCIA DE PASO A VEHICULOS.', 'CONDICIONES AMBIENTALES Y/O ATMOSFERICAS (NIEBLA, NEBLINA, GRANIZO, LLUVIA).', 'NO CEDER EL DERECHO DE VIA O PREFERENCIA DE PASO AL PEATON.', 'BAJARSE O SUBIRSE DE VEHICULOS EN MOVIMIENTO SIN TOMAR LAS PRECAUCIONES DEBIDAS.', 'MAL ESTACIONADO - EL CONDUCTOR QUE DETENGA O ESTACIONE VEHICULOS EN SITIOS O ZONAS QUE ENTRAÑEN PELIGRO, TALES COMO ZONA DE SEGURIDAD, CURVAS, PUENTES, TUNELES, PENDIENTES.'}\n",
      "TIPO_DE_SINIESTRO tiene los siguientes valores\n",
      "{'VOLCAMIENTOS', 'ARROLLAMIENTOS', 'ROZAMIENTOS', 'ATROPELLOS', 'PERDIDA DE CARRIL', 'CHOQUE FRONTAL', 'OTROS', 'CHOQUE POSTERIOR', 'CAIDA DE PASAJERO', 'CHOQUE LATERAL', 'COLISION', 'ESTRELLAMIENTOS', 'PERDIDA DE PISTA'}\n",
      "TIPO_DE_VEHICULO_1 tiene los siguientes valores\n",
      "{'AUTOMOVIL', 'ESPECIAL', 'FURGONETA', 'CAMION', 'VEHICULO DEPORTIVO UTILITARIO', 'CAMIONETA', 'EMERGENCIAS', 'BUS', 'SCOOTER ELECTRICO', 'BICICLETA', 'NO IDENTIFICADO', 'MOTOCICLETA', 'TRICIMOTO'}\n",
      "SERVICIO_1 tiene los siguientes valores\n",
      "{'GOBIERNOS SECCIONALES', 'ESTADO', 'PUBLICO', 'PARTICULAR', 'COMERCIAL', 'CUENTA PROPIA'}\n",
      "PARTICIPANTE_1 tiene los siguientes valores\n",
      "{'CONDUCTOR PRESENTE', 'CICLISTA', 'CONDUCTOR AUSENTE', 'PEATON', 'PASAJERO'}\n",
      "CASCO_1 tiene los siguientes valores\n",
      "{'SI', 'NO'}\n",
      "CINTURON_1 tiene los siguientes valores\n",
      "{'SI', 'NO'}\n",
      "GRUPO ETARIO tiene los siguientes valores\n",
      "{'DE 30 A 39 AÑOS', 'DE 0 A 9 AÑOS', 'DE 40 A 49 AÑOS', 'DE 50 A 64 AÑOS', 'MAYOR DE 65 AÑOS', 'DE 10 A 19 AÑOS', 'DE 20 A 29 AÑOS', 'NO IDENTIFICADO'}\n"
     ]
    }
   ],
   "source": [
    "for column in ['FERIADO', 'CODIGO_CAUSA', 'CAUSA_PROBABLE', 'TIPO_DE_SINIESTRO', 'TIPO_DE_VEHICULO_1','SERVICIO_1', 'PARTICIPANTE_1', 'CASCO_1', 'CINTURON_1', 'GRUPO ETARIO']:\n",
    "    if dataset_cl1[column].dtype == \"object\":\n",
    "        print(f\"{column} tiene los siguientes valores\\n{set(dataset_cl1[column])}\")"
   ]
  },
  {
   "cell_type": "code",
   "execution_count": null,
   "metadata": {},
   "outputs": [],
   "source": []
  }
 ],
 "metadata": {
  "kernelspec": {
   "display_name": "tfwin",
   "language": "python",
   "name": "python3"
  },
  "language_info": {
   "codemirror_mode": {
    "name": "ipython",
    "version": 3
   },
   "file_extension": ".py",
   "mimetype": "text/x-python",
   "name": "python",
   "nbconvert_exporter": "python",
   "pygments_lexer": "ipython3",
   "version": "3.9.19"
  }
 },
 "nbformat": 4,
 "nbformat_minor": 2
}
