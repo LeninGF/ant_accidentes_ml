{
 "cells": [
  {
   "cell_type": "markdown",
   "metadata": {},
   "source": [
    "# Predicciones de Riesgos de Accidentes de Tránsido con Machine Learning\n",
    "\n",
    "## Objetivo General\n",
    "Aplicar las técnicas de Machine Learning para realizar predicciones sobre el fenómeno de siniestros de tránsito utilizando el conjunto de datos de la AMT de Ecuador con fecha de corte 2024-x-x.\n",
    "## Objetivo Específico:\n",
    "- Utilizar aprendizaje supervisado que permita predecir, dados unas condiciones de entrada, el nivel de gravedad del accidente. Para esto se considera la **Pirámide de Bird**, la cual se adapta según la relación de fallecidos y lesionados en el siniestro.\n",
    "- Utilizar aprendizaje supervisado para predecir la cantidad de lesionados y fallecidos según condiciones de entrada. Para esto se puede partir del dataset original.\n",
    "- Utilizar aprendizaje supervisado para obtener grupos de siniestralidad en función de las características del accidente"
   ]
  },
  {
   "cell_type": "code",
   "execution_count": 1,
   "metadata": {},
   "outputs": [
    {
     "data": {
      "text/plain": [
       "(165017, 60)"
      ]
     },
     "execution_count": 1,
     "metadata": {},
     "output_type": "execute_result"
    }
   ],
   "source": [
    "import pandas as pd\n",
    "import os\n",
    "dataset_path = os.path.join(os.getcwd(), 'data', 'dataset_original.xlsx')\n",
    "dataset = pd.read_excel(dataset_path)\n",
    "dataset.shape"
   ]
  },
  {
   "cell_type": "code",
   "execution_count": 2,
   "metadata": {},
   "outputs": [],
   "source": [
    "pd.set_option('display.max_columns', None)\n",
    "pd.options.display.max_rows = None"
   ]
  },
  {
   "cell_type": "code",
   "execution_count": 3,
   "metadata": {},
   "outputs": [
    {
     "name": "stdout",
     "output_type": "stream",
     "text": [
      "<class 'pandas.core.frame.DataFrame'>\n",
      "RangeIndex: 165017 entries, 0 to 165016\n",
      "Data columns (total 60 columns):\n",
      " #   Column                         Non-Null Count   Dtype  \n",
      "---  ------                         --------------   -----  \n",
      " 0   NUMERO                         165017 non-null  int64  \n",
      " 1   ANIO                           165017 non-null  int64  \n",
      " 2   SINIESTROS                     165017 non-null  object \n",
      " 3   LESIONADOS                     165017 non-null  int64  \n",
      " 4   FALLECIDOS                     165017 non-null  int64  \n",
      " 5   ENTE_DE_CONTROL                165017 non-null  object \n",
      " 6   LATITUD_Y                      165017 non-null  float64\n",
      " 7   LONGITUD_X                     165017 non-null  float64\n",
      " 8   DPA_1                          165017 non-null  int64  \n",
      " 9   PROVINCIA                      165017 non-null  object \n",
      " 10  DPA_2                          165017 non-null  int64  \n",
      " 11  CANTON                         165017 non-null  object \n",
      " 12  DPA_3                          165017 non-null  int64  \n",
      " 13  PARROQUIA                      165017 non-null  object \n",
      " 14  DIRECCION                      165017 non-null  object \n",
      " 15  ZONA_PLANIFICACION             164992 non-null  object \n",
      " 16  ZONA                           164992 non-null  object \n",
      " 17  ID_DE_LA_VIA                   164992 non-null  object \n",
      " 18  NOMBRE_DE_LA_VIA               164992 non-null  object \n",
      " 19  UBICACION_DE_LA_VIA            164992 non-null  object \n",
      " 20  JERARQUIA_DE_LA_VIA            164992 non-null  object \n",
      " 21  FECHA                          164992 non-null  object \n",
      " 22  HORA                           164992 non-null  object \n",
      " 23  PERIODO_1                      164992 non-null  object \n",
      " 24  PERIODO_2                      164992 non-null  float64\n",
      " 25  DIA_1                          164992 non-null  object \n",
      " 26  DIA_2                          164992 non-null  float64\n",
      " 27  MES_1                          164992 non-null  object \n",
      " 28  MES_2                          164992 non-null  float64\n",
      " 29  FERIADO                        164992 non-null  object \n",
      " 30  CODIGO_CAUSA                   164992 non-null  object \n",
      " 31  CAUSA_PROBABLE                 164992 non-null  object \n",
      " 32  TIPO_DE_SINIESTRO              164992 non-null  object \n",
      " 33  TIPO_DE_VEHICULO_1             164992 non-null  object \n",
      " 34  SERVICIO_1                     164992 non-null  object \n",
      " 35  AUTOMOVIL                      164992 non-null  float64\n",
      " 36  BICICLETA                      164992 non-null  float64\n",
      " 37  BUS                            164992 non-null  float64\n",
      " 38  CAMION                         164992 non-null  float64\n",
      " 39  CAMIONETA                      164992 non-null  float64\n",
      " 40  EMERGENCIAS                    164992 non-null  float64\n",
      " 41  ESPECIAL                       164992 non-null  float64\n",
      " 42  FURGONETA                      164992 non-null  float64\n",
      " 43  MOTOCICLETA                    164992 non-null  float64\n",
      " 44  NO_IDENTIFICADO                164992 non-null  float64\n",
      " 45  SCOOTER_ELECTRICO              164992 non-null  float64\n",
      " 46  TRICIMOTO                      164992 non-null  float64\n",
      " 47  VEHICULO_DEPORTIVO_UTILITARIO  164992 non-null  float64\n",
      " 48  SUMA_DE_VEHICULOS              164992 non-null  float64\n",
      " 49  TIPO_ID_1                      164992 non-null  object \n",
      " 50  EDAD_1                         164992 non-null  float64\n",
      " 51  SEXO_1                         164992 non-null  object \n",
      " 52  CONDICION_1                    164992 non-null  object \n",
      " 53  PARTICIPANTE_1                 164992 non-null  object \n",
      " 54  CASCO_1                        164992 non-null  object \n",
      " 55  CINTURON_1                     164992 non-null  object \n",
      " 56  DPA_PROV                       165017 non-null  int64  \n",
      " 57  DPA_CANT                       165017 non-null  int64  \n",
      " 58  DPA_PARR                       165017 non-null  int64  \n",
      " 59  GRUPO ETARIO                   165017 non-null  object \n",
      "dtypes: float64(20), int64(10), object(30)\n",
      "memory usage: 75.5+ MB\n"
     ]
    }
   ],
   "source": [
    "dataset.info()"
   ]
  },
  {
   "cell_type": "code",
   "execution_count": 4,
   "metadata": {},
   "outputs": [
    {
     "data": {
      "text/plain": [
       "(164992, 60)"
      ]
     },
     "execution_count": 4,
     "metadata": {},
     "output_type": "execute_result"
    }
   ],
   "source": [
    "dataset_cl1 = dataset.dropna()\n",
    "dataset_cl1.shape"
   ]
  },
  {
   "cell_type": "markdown",
   "metadata": {},
   "source": [
    "## Valores únicos contenidos en el dataset\n",
    "\n",
    "Se revisa cuál es el contenido de valores únicos en el dataset en el caso de que la columna sea de tipo object"
   ]
  },
  {
   "cell_type": "code",
   "execution_count": 5,
   "metadata": {},
   "outputs": [
    {
     "ename": "SyntaxError",
     "evalue": "EOL while scanning string literal (1723656598.py, line 3)",
     "output_type": "error",
     "traceback": [
      "\u001b[1;36m  Cell \u001b[1;32mIn[5], line 3\u001b[1;36m\u001b[0m\n\u001b[1;33m    print(f\"{column}\u001b[0m\n\u001b[1;37m                    ^\u001b[0m\n\u001b[1;31mSyntaxError\u001b[0m\u001b[1;31m:\u001b[0m EOL while scanning string literal\n"
     ]
    }
   ],
   "source": [
    "for column in dataset_cl1.column\n",
    "    if dataset_cl1[column].dtype == igui\"object\":\n",
    "        print(f\"{column} tiene los s"
   ]
  },
  {
   "cell_type": "code",
   "execution_count": null,
   "metadata": {},
   "outputs": [],
   "source": []
  }
 ],
 "metadata": {
  "kernelspec": {
   "display_name": "tfwin",
   "language": "python",
   "name": "python3"
  },
  "language_info": {
   "codemirror_mode": {
    "name": "ipython",
    "version": 3
   },
   "file_extension": ".py",
   "mimetype": "text/x-python",
   "name": "python",
   "nbconvert_exporter": "python",
   "pygments_lexer": "ipython3",
   "version": "3.9.19"
  }
 },
 "nbformat": 4,
 "nbformat_minor": 2
}
